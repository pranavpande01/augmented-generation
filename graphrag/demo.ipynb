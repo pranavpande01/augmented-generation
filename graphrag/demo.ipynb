{
 "cells": [
  {
   "cell_type": "code",
   "execution_count": 5,
   "id": "d03e4f4a",
   "metadata": {},
   "outputs": [
    {
     "name": "stderr",
     "output_type": "stream",
     "text": [
      "2025-09-16 05:57:25,542 - INFO - HTTP Request: GET https://generativelanguage.googleapis.com/v1beta/models/gemini-2.5-flash \"HTTP/1.1 200 OK\"\n",
      "2025-09-16 05:57:25,970 - INFO - AFC is enabled with max remote calls: 10.\n",
      "2025-09-16 05:57:34,317 - INFO - HTTP Request: POST https://generativelanguage.googleapis.com/v1beta/models/gemini-2.5-flash:generateContent \"HTTP/1.1 200 OK\"\n",
      "2025-09-16 05:57:34,319 - INFO - AFC remote call 1 is done.\n",
      "2025-09-16 05:57:34,950 - INFO - HTTP Request: POST https://generativelanguage.googleapis.com/v1beta/models/text-embedding-004:batchEmbedContents \"HTTP/1.1 200 OK\"\n"
     ]
    }
   ],
   "source": [
    "import os\n",
    "from llama_index.core import Settings, SimpleDirectoryReader, KnowledgeGraphIndex, StorageContext\n",
    "from llama_index.core.graph_stores import SimpleGraphStore\n",
    "from llama_index.llms.google_genai import GoogleGenAI\n",
    "from llama_index.embeddings.google_genai import GoogleGenAIEmbedding\n",
    "from dotenv import load_dotenv\n",
    "load_dotenv()\n",
    "\n",
    "documents=SimpleDirectoryReader(\"data\",recursive=True).load_data()\n",
    "\n",
    "Settings.llm=GoogleGenAI(model=\"gemini-2.5-flash\")\n",
    "Settings.embed_model=GoogleGenAIEmbedding(model=\"gemini-embedding-001\")\n",
    "\n",
    "graph_store=SimpleGraphStore()\n",
    "storage_context=StorageContext.from_defaults(graph_store=graph_store)\n",
    "\n",
    "index=KnowledgeGraphIndex.from_documents(\n",
    "    documents,\n",
    "    maxtriples_per_chunk=2,\n",
    "    storage_context=storage_context,\n",
    "    include_embeddings=True) \n",
    "\n",
    "\n",
    "query_engine=index.as_query_engine(\n",
    "    include_text=False,\n",
    "    response_mode=\"tree_summarize\",\n",
    ")\n"
   ]
  },
  {
   "cell_type": "code",
   "execution_count": 6,
   "id": "33b10e70",
   "metadata": {},
   "outputs": [
    {
     "name": "stderr",
     "output_type": "stream",
     "text": [
      "2025-09-16 05:57:35,213 - INFO - AFC is enabled with max remote calls: 10.\n"
     ]
    },
    {
     "name": "stderr",
     "output_type": "stream",
     "text": [
      "2025-09-16 05:57:38,768 - INFO - HTTP Request: POST https://generativelanguage.googleapis.com/v1beta/models/gemini-2.5-flash:generateContent \"HTTP/1.1 200 OK\"\n",
      "2025-09-16 05:57:38,770 - INFO - AFC remote call 1 is done.\n",
      "2025-09-16 05:57:39,219 - INFO - HTTP Request: POST https://generativelanguage.googleapis.com/v1beta/models/text-embedding-004:batchEmbedContents \"HTTP/1.1 200 OK\"\n",
      "2025-09-16 05:57:39,238 - INFO - AFC is enabled with max remote calls: 10.\n",
      "2025-09-16 05:57:41,316 - INFO - HTTP Request: POST https://generativelanguage.googleapis.com/v1beta/models/gemini-2.5-flash:generateContent \"HTTP/1.1 200 OK\"\n",
      "2025-09-16 05:57:41,318 - INFO - AFC remote call 1 is done.\n"
     ]
    },
    {
     "name": "stdout",
     "output_type": "stream",
     "text": [
      "Project starlight is led by Dr. Evelyn Reed.\n"
     ]
    }
   ],
   "source": [
    "\n",
    "response=query_engine.query(\"whos brainchild is starlight?\")\n",
    "print(response)"
   ]
  },
  {
   "cell_type": "code",
   "execution_count": null,
   "id": "c3349e23",
   "metadata": {},
   "outputs": [
    {
     "ename": "TypeError",
     "evalue": "SimpleGraphStore.get() missing 1 required positional argument: 'subj'",
     "output_type": "error",
     "traceback": [
      "\u001b[31m---------------------------------------------------------------------------\u001b[39m",
      "\u001b[31mTypeError\u001b[39m                                 Traceback (most recent call last)",
      "\u001b[36mCell\u001b[39m\u001b[36m \u001b[39m\u001b[32mIn[11]\u001b[39m\u001b[32m, line 2\u001b[39m\n\u001b[32m      1\u001b[39m \u001b[38;5;28;01mfrom\u001b[39;00m\u001b[38;5;250m \u001b[39m\u001b[34;01mpyvis\u001b[39;00m\u001b[34;01m.\u001b[39;00m\u001b[34;01mnetwork\u001b[39;00m\u001b[38;5;250m \u001b[39m\u001b[38;5;28;01mimport\u001b[39;00m Network\n\u001b[32m----> \u001b[39m\u001b[32m2\u001b[39m g = \u001b[43mindex\u001b[49m\u001b[43m.\u001b[49m\u001b[43mstorage_context\u001b[49m\u001b[43m.\u001b[49m\u001b[43mgraph_store\u001b[49m\u001b[43m.\u001b[49m\u001b[43mget\u001b[49m\u001b[43m(\u001b[49m\u001b[43m)\u001b[49m\n\u001b[32m      3\u001b[39m net = Network(notebook=\u001b[38;5;28;01mTrue\u001b[39;00m, cdn_resources=\u001b[33m\"\u001b[39m\u001b[33min_line\u001b[39m\u001b[33m\"\u001b[39m, directed=\u001b[38;5;28;01mTrue\u001b[39;00m)\n\u001b[32m      4\u001b[39m \u001b[38;5;28;01mfor\u001b[39;00m subject, _, object_ \u001b[38;5;129;01min\u001b[39;00m g.get_triplets():\n",
      "\u001b[31mTypeError\u001b[39m: SimpleGraphStore.get() missing 1 required positional argument: 'subj'"
     ]
    }
   ],
   "source": []
  },
  {
   "cell_type": "code",
   "execution_count": null,
   "id": "4a3c6352",
   "metadata": {},
   "outputs": [],
   "source": []
  }
 ],
 "metadata": {
  "kernelspec": {
   "display_name": "Python 3",
   "language": "python",
   "name": "python3"
  },
  "language_info": {
   "codemirror_mode": {
    "name": "ipython",
    "version": 3
   },
   "file_extension": ".py",
   "mimetype": "text/x-python",
   "name": "python",
   "nbconvert_exporter": "python",
   "pygments_lexer": "ipython3",
   "version": "3.12.1"
  }
 },
 "nbformat": 4,
 "nbformat_minor": 5
}
