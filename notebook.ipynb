{
 "cells": [
  {
   "cell_type": "code",
   "execution_count": 2,
   "id": "f804fa2f",
   "metadata": {},
   "outputs": [
    {
     "name": "stderr",
     "output_type": "stream",
     "text": [
      "/usr/local/python/3.12.1/lib/python3.12/site-packages/tqdm/auto.py:21: TqdmWarning: IProgress not found. Please update jupyter and ipywidgets. See https://ipywidgets.readthedocs.io/en/stable/user_install.html\n",
      "  from .autonotebook import tqdm as notebook_tqdm\n"
     ]
    }
   ],
   "source": [
    "from transformers import AutoTokenizer\n",
    "tokenizer = AutoTokenizer.from_pretrained(\"sentence-transformers/all-MiniLM-L6-v2\")\n",
    "text = \"Hello, what are we having for dinner today?\"\n",
    "tokens = tokenizer.tokenize(text)\n",
    "ids = tokenizer.encode(text)\n"
   ]
  },
  {
   "cell_type": "code",
   "execution_count": 3,
   "id": "3d9fecc7",
   "metadata": {},
   "outputs": [],
   "source": [
    "from transformers import AutoTokenizer\n",
    "t = AutoTokenizer.from_pretrained(\"sentence-transformers/all-MiniLM-L6-v2\")\n"
   ]
  },
  {
   "cell_type": "code",
   "execution_count": 4,
   "id": "851ff925",
   "metadata": {},
   "outputs": [],
   "source": [
    "text = \"Hello, what are we having for dinner today? Please no bitching about food\"\n",
    "tokens = t.tokenize(text)\n",
    "#ids = tokenizer.encode(text)\n"
   ]
  },
  {
   "cell_type": "code",
   "execution_count": 5,
   "id": "ea47d9d1",
   "metadata": {},
   "outputs": [
    {
     "data": {
      "text/plain": [
       "array([[-0.02068236, -0.00404052,  0.03166319, ..., -0.05884496,\n",
       "        -0.06572201,  0.00504361],\n",
       "       [ 0.03171576,  0.05465564, -0.03701392, ...,  0.08216362,\n",
       "         0.05479598, -0.03056399],\n",
       "       [-0.06890808, -0.00711875, -0.00752501, ...,  0.04794969,\n",
       "        -0.09968602, -0.02401387]], shape=(3, 384), dtype=float32)"
      ]
     },
     "execution_count": 5,
     "metadata": {},
     "output_type": "execute_result"
    }
   ],
   "source": [
    "from sentence_transformers import SentenceTransformer\n",
    "model = SentenceTransformer('all-MiniLM-L6-v2')\n"
   ]
  },
  {
   "cell_type": "code",
   "execution_count": null,
   "id": "65b3d521",
   "metadata": {},
   "outputs": [
    {
     "data": {
      "text/plain": [
       "array([[-0.02068236, -0.00404052,  0.03166319, ..., -0.05884496,\n",
       "        -0.06572201,  0.00504361],\n",
       "       [ 0.03171576,  0.05465564, -0.03701392, ...,  0.08216362,\n",
       "         0.05479598, -0.03056399],\n",
       "       [-0.06890808, -0.00711875, -0.00752501, ...,  0.04794969,\n",
       "        -0.09968602, -0.02401387]], shape=(3, 384), dtype=float32)"
      ]
     },
     "execution_count": 6,
     "metadata": {},
     "output_type": "execute_result"
    }
   ],
   "source": [
    "q=model.encode([\n",
    "    \"my birch is lovely\",\n",
    "    \"the car is inside my asshole\",\n",
    "    \"bsdk tujhy kya probem hai?\"\n",
    "    ])"
   ]
  }
 ],
 "metadata": {
  "kernelspec": {
   "display_name": "Python 3",
   "language": "python",
   "name": "python3"
  },
  "language_info": {
   "codemirror_mode": {
    "name": "ipython",
    "version": 3
   },
   "file_extension": ".py",
   "mimetype": "text/x-python",
   "name": "python",
   "nbconvert_exporter": "python",
   "pygments_lexer": "ipython3",
   "version": "3.12.1"
  }
 },
 "nbformat": 4,
 "nbformat_minor": 5
}
